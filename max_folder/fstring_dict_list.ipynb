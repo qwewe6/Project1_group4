{
 "cells": [
  {
   "cell_type": "code",
   "execution_count": 35,
   "id": "47056aa0-e2a8-47a7-92d6-4c01e8755db7",
   "metadata": {},
   "outputs": [
    {
     "name": "stdout",
     "output_type": "stream",
     "text": [
      "['this', 'is', 'my', 'list', 'of', 'words']\n",
      "['THIS', 'IS', 'MY', 'LIST', 'OF', 'WORDS']\n",
      "Hello Max, you are 29 years old.\n"
     ]
    }
   ],
   "source": [
    "#make a random dictionary for example (really a paramaters cariable...? check terminology)\n",
    "dict1 = {\"name\" : \"Max\",\n",
    "         \"age\" : 29\n",
    "        }\n",
    "\n",
    "#create some f string to pass values of our dictionay into\n",
    "string = f\"Hello {dict1['name']}, you are {dict1['age']} years old.\"\n",
    "\n",
    "#make some list of strings\n",
    "list1 = ['this', 'is', 'my', 'list', 'of', 'words']\n",
    "\n",
    "#use a for loop to interate through elements in list1, and for each element in list1, make the characters present uppercase\n",
    "#then add that new (uppercase) value to the empty list named list_upper\n",
    "list_upper = []\n",
    "for x in list1:\n",
    "    x = x.upper()\n",
    "    list_upper.append(x)\n",
    "\n",
    "#print the initial list (list1), the upercase list along with our initial fstring to check our work\n",
    "print(list1)\n",
    "print(list_upper)\n",
    "print(string)"
   ]
  },
  {
   "cell_type": "code",
   "execution_count": 36,
   "id": "70278ccb-ea96-417c-a3d5-a69eb4c978da",
   "metadata": {},
   "outputs": [
    {
     "data": {
      "text/plain": [
       "{'name': 'Max',\n",
       " 'age': 29,\n",
       " 'random list values': ['this', 'is', 'my', 'list', 'of', 'words']}"
      ]
     },
     "execution_count": 36,
     "metadata": {},
     "output_type": "execute_result"
    }
   ],
   "source": [
    "dict1.keys\n",
    "\n",
    "#add a new key called random list values into dict1, and assign the value of that key to be our lowercase list\n",
    "dict1[\"random list values\"] = list1\n",
    "\n",
    "#print dict1 to see if our new key value pair has been stored\n",
    "dict1\n",
    "#YAY!"
   ]
  },
  {
   "cell_type": "code",
   "execution_count": 37,
   "id": "4f3ac415-41df-4aa0-84b6-966a11712ee2",
   "metadata": {},
   "outputs": [
    {
     "data": {
      "text/plain": [
       "dict_values(['Max', 29, ['this', 'is', 'my', 'list', 'of', 'words']])"
      ]
     },
     "execution_count": 37,
     "metadata": {},
     "output_type": "execute_result"
    }
   ],
   "source": [
    "dict1.values()"
   ]
  },
  {
   "cell_type": "code",
   "execution_count": 38,
   "id": "2230f950-6311-41cf-8be1-77dce1678fcb",
   "metadata": {},
   "outputs": [],
   "source": [
    "#now let's go ahead and import some dependencies that we want to mess with \n",
    "import pandas as pd\n",
    "import matplotlib as plt"
   ]
  },
  {
   "cell_type": "code",
   "execution_count": 42,
   "id": "6f60e7e4-dd1c-4611-8c12-8eaca25cb16e",
   "metadata": {},
   "outputs": [
    {
     "data": {
      "text/html": [
       "<div>\n",
       "<style scoped>\n",
       "    .dataframe tbody tr th:only-of-type {\n",
       "        vertical-align: middle;\n",
       "    }\n",
       "\n",
       "    .dataframe tbody tr th {\n",
       "        vertical-align: top;\n",
       "    }\n",
       "\n",
       "    .dataframe thead th {\n",
       "        text-align: right;\n",
       "    }\n",
       "</style>\n",
       "<table border=\"1\" class=\"dataframe\">\n",
       "  <thead>\n",
       "    <tr style=\"text-align: right;\">\n",
       "      <th></th>\n",
       "      <th>name</th>\n",
       "      <th>age</th>\n",
       "      <th>random list values</th>\n",
       "    </tr>\n",
       "  </thead>\n",
       "  <tbody>\n",
       "    <tr>\n",
       "      <th>0</th>\n",
       "      <td>Max</td>\n",
       "      <td>29</td>\n",
       "      <td>this</td>\n",
       "    </tr>\n",
       "    <tr>\n",
       "      <th>1</th>\n",
       "      <td>Max</td>\n",
       "      <td>29</td>\n",
       "      <td>is</td>\n",
       "    </tr>\n",
       "    <tr>\n",
       "      <th>2</th>\n",
       "      <td>Max</td>\n",
       "      <td>29</td>\n",
       "      <td>my</td>\n",
       "    </tr>\n",
       "    <tr>\n",
       "      <th>3</th>\n",
       "      <td>Max</td>\n",
       "      <td>29</td>\n",
       "      <td>list</td>\n",
       "    </tr>\n",
       "    <tr>\n",
       "      <th>4</th>\n",
       "      <td>Max</td>\n",
       "      <td>29</td>\n",
       "      <td>of</td>\n",
       "    </tr>\n",
       "    <tr>\n",
       "      <th>5</th>\n",
       "      <td>Max</td>\n",
       "      <td>29</td>\n",
       "      <td>words</td>\n",
       "    </tr>\n",
       "  </tbody>\n",
       "</table>\n",
       "</div>"
      ],
      "text/plain": [
       "  name  age random list values\n",
       "0  Max   29               this\n",
       "1  Max   29                 is\n",
       "2  Max   29                 my\n",
       "3  Max   29               list\n",
       "4  Max   29                 of\n",
       "5  Max   29              words"
      ]
     },
     "execution_count": 42,
     "metadata": {},
     "output_type": "execute_result"
    }
   ],
   "source": [
    "#cast a new variable to store our dictionary as a data frame using the pandas lirary\n",
    "dict1_df = pd.DataFrame(dict1)\n",
    "dict1_df\n",
    "\n",
    "#NICE"
   ]
  },
  {
   "cell_type": "code",
   "execution_count": 50,
   "id": "7d532b37-2bb3-4df1-a381-85007f8e89a7",
   "metadata": {},
   "outputs": [
    {
     "ename": "AttributeError",
     "evalue": "module 'pandas' has no attribute 'groupby'",
     "output_type": "error",
     "traceback": [
      "\u001b[0;31m---------------------------------------------------------------------------\u001b[0m",
      "\u001b[0;31mAttributeError\u001b[0m                            Traceback (most recent call last)",
      "Cell \u001b[0;32mIn[50], line 1\u001b[0m\n\u001b[0;32m----> 1\u001b[0m x \u001b[38;5;241m=\u001b[39m \u001b[43mpd\u001b[49m\u001b[38;5;241;43m.\u001b[39;49m\u001b[43mgroupby\u001b[49m\u001b[38;5;241m.\u001b[39mdict1_df[\u001b[38;5;124m\"\u001b[39m\u001b[38;5;124mage\u001b[39m\u001b[38;5;124m\"\u001b[39m]\u001b[38;5;241m.\u001b[39munique()\n\u001b[1;32m      2\u001b[0m \u001b[38;5;28mprint\u001b[39m(x)\n",
      "\u001b[0;31mAttributeError\u001b[0m: module 'pandas' has no attribute 'groupby'"
     ]
    }
   ],
   "source": [
    "\n",
    "x = dict1_df[\"age\"].unique()\n",
    "print(x)"
   ]
  },
  {
   "cell_type": "code",
   "execution_count": null,
   "id": "a21cc744-285f-4c3a-975d-08baba07d831",
   "metadata": {},
   "outputs": [],
   "source": []
  }
 ],
 "metadata": {
  "kernelspec": {
   "display_name": "Python 3 (ipykernel)",
   "language": "python",
   "name": "python3"
  },
  "language_info": {
   "codemirror_mode": {
    "name": "ipython",
    "version": 3
   },
   "file_extension": ".py",
   "mimetype": "text/x-python",
   "name": "python",
   "nbconvert_exporter": "python",
   "pygments_lexer": "ipython3",
   "version": "3.10.16"
  }
 },
 "nbformat": 4,
 "nbformat_minor": 5
}
