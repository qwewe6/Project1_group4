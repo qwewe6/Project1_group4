{
 "cells": [
  {
   "cell_type": "code",
   "execution_count": 10,
   "id": "47056aa0-e2a8-47a7-92d6-4c01e8755db7",
   "metadata": {},
   "outputs": [
    {
     "name": "stdin",
     "output_type": "stream",
     "text": [
      " please enter name  max\n",
      "enter age  33\n",
      "I have a list of words would you like to see it?  yes\n"
     ]
    },
    {
     "name": "stdout",
     "output_type": "stream",
     "text": [
      "Fine, goodbye max, you are old as hell anyway wit yo 33 year old ass.\n"
     ]
    }
   ],
   "source": [
    "#make a random dictionary for example (really a paramaters cariable...? check terminology)\n",
    "\n",
    "name = input(f\" please enter name \").lower()\n",
    "age = int(input(\"enter age \"))\n",
    "list1 = ['this', 'is', 'my', 'list', 'of', 'words']\n",
    "\n",
    "dict1 = {\"name\" : name,\n",
    "         \"age\" : age\n",
    "        }\n",
    "#create some f string to pass values of our dictionay into\n",
    "string = f\"Fine, goodbye {dict1['name']}, you are old as hell anyway wit yo {dict1['age']} year old ass.\"\n",
    "\n",
    "t = True\n",
    "while t == True:\n",
    "    in1 = input(\"I have a list of words would you like to see it? \").lower\n",
    "    if in1 == \"yes\" or in1 == \"1\" or in1 == \"ok\" or in1 == \"sure\":\n",
    "            print(f'This is my list of words {list1}.')\n",
    "    else:\n",
    "        t = False\n",
    "\n",
    "#make some list of strings\n",
    "\n",
    "\n",
    "print(string)\n",
    "#use a for loop to interate through elements in list1, and for each element in list1, make the characters present uppercase\n",
    "#then add that new (uppercase) value to the empty list named list_upper\n",
    "# list_upper = []\n",
    "# for x in list1:\n",
    "#     x = x.upper()\n",
    "#     list_upper.append(x)\n",
    "\n",
    "# #print the initial list (list1), the upercase list along with our initial fstring to check our work\n",
    "# print(list1)\n",
    "# print(list_upper)\n",
    "# print(string)"
   ]
  },
  {
   "cell_type": "code",
   "execution_count": 3,
   "id": "70278ccb-ea96-417c-a3d5-a69eb4c978da",
   "metadata": {},
   "outputs": [
    {
     "data": {
      "text/plain": [
       "{'name': 'Max',\n",
       " 'age': 29,\n",
       " 'random list values': ['this', 'is', 'my', 'list', 'of', 'words']}"
      ]
     },
     "execution_count": 3,
     "metadata": {},
     "output_type": "execute_result"
    }
   ],
   "source": [
    "dict1.keys\n",
    "\n",
    "#add a new key called random list values into dict1, and assign the value of that key to be our lowercase list\n",
    "dict1[\"random list values\"] = list1\n",
    "\n",
    "#print dict1 to see if our new key value pair has been stored\n",
    "dict1\n",
    "#YAY!"
   ]
  },
  {
   "cell_type": "code",
   "execution_count": 58,
   "id": "05957d65-82c1-40ea-9db7-729e1d54287b",
   "metadata": {},
   "outputs": [
    {
     "name": "stdout",
     "output_type": "stream",
     "text": [
      "[{'of': 'words'}]\n"
     ]
    }
   ],
   "source": [
    "#now lets try to get the last two words out of the list within our dictionary.\n",
    "y = []\n",
    "\n",
    "test = dict1['random list values']\n",
    "#the append function only take in one argument, and thus inorder to padd these two into it to add it to the list\n",
    "#i can make it a list or, dict\n",
    "test = y.append({test[4] : test[5]})\n",
    "\n",
    "print(y)\n",
    "\n"
   ]
  },
  {
   "cell_type": "code",
   "execution_count": 59,
   "id": "8c34a82d-bc94-4ccf-9b9a-f521d817b3a5",
   "metadata": {},
   "outputs": [
    {
     "name": "stdout",
     "output_type": "stream",
     "text": [
      "{'of': 'words'}\n"
     ]
    }
   ],
   "source": [
    "\n",
    "print(y[0])"
   ]
  },
  {
   "cell_type": "code",
   "execution_count": 60,
   "id": "4875a2d7-12ff-493c-a152-8bd5544b30ec",
   "metadata": {},
   "outputs": [
    {
     "name": "stdout",
     "output_type": "stream",
     "text": [
      "words\n"
     ]
    }
   ],
   "source": [
    "print(y[0]['of'])"
   ]
  },
  {
   "cell_type": "code",
   "execution_count": 61,
   "id": "0bb91697-fa0b-4770-93ff-3307ef0f83a6",
   "metadata": {},
   "outputs": [
    {
     "name": "stdout",
     "output_type": "stream",
     "text": [
      "dict_keys(['of'])\n"
     ]
    }
   ],
   "source": [
    "print(y[0].keys())"
   ]
  },
  {
   "cell_type": "code",
   "execution_count": 62,
   "id": "2952a105-8e30-4d4c-90f6-c63e1cf54843",
   "metadata": {},
   "outputs": [
    {
     "name": "stdout",
     "output_type": "stream",
     "text": [
      "dict_values(['words'])\n"
     ]
    }
   ],
   "source": [
    "print(y[0].values())"
   ]
  },
  {
   "cell_type": "code",
   "execution_count": 63,
   "id": "3e7b70ec-ca3e-4cf3-aca1-69ac8c70dbcc",
   "metadata": {},
   "outputs": [
    {
     "data": {
      "text/plain": [
       "{'name': 'Max',\n",
       " 'age': 29,\n",
       " 'random list values': ['this', 'is', 'my', 'list', 'of', 'words'],\n",
       " 'new key': [{'of': 'words'}]}"
      ]
     },
     "execution_count": 63,
     "metadata": {},
     "output_type": "execute_result"
    }
   ],
   "source": [
    "dict1[\"new key\"] = y\n",
    "dict1"
   ]
  },
  {
   "cell_type": "code",
   "execution_count": 75,
   "id": "c90b1277-3bf4-49b8-b99c-aa4055d7fd5d",
   "metadata": {},
   "outputs": [
    {
     "name": "stdout",
     "output_type": "stream",
     "text": [
      "[('1', '2'), ('a', 'D'), ('pi', 2)]\n",
      "{'1': '2', 'a': 'D', 'pi': 2}\n"
     ]
    },
    {
     "ename": "TypeError",
     "evalue": "can only concatenate list (not \"int\") to list",
     "output_type": "error",
     "traceback": [
      "\u001b[0;31m---------------------------------------------------------------------------\u001b[0m",
      "\u001b[0;31mTypeError\u001b[0m                                 Traceback (most recent call last)",
      "Cell \u001b[0;32mIn[75], line 29\u001b[0m\n\u001b[1;32m     25\u001b[0m df\u001b[38;5;241m.\u001b[39mhead()\n\u001b[1;32m     27\u001b[0m \u001b[38;5;66;03m#yelling at me tellimg me i need an index so then I added the argument 'index=[dict_from_listuple.keys()]', which worked.\u001b[39;00m\n\u001b[0;32m---> 29\u001b[0m df2 \u001b[38;5;241m=\u001b[39m pd\u001b[38;5;241m.\u001b[39mDataFrame(dict1, index\u001b[38;5;241m=\u001b[39m\u001b[43mlst\u001b[49m\u001b[38;5;241;43m+\u001b[39;49m\u001b[38;5;241;43m1\u001b[39;49m)\n\u001b[1;32m     30\u001b[0m df2\u001b[38;5;241m.\u001b[39mhead(), df\u001b[38;5;241m.\u001b[39mhead()\n",
      "\u001b[0;31mTypeError\u001b[0m: can only concatenate list (not \"int\") to list"
     ]
    }
   ],
   "source": [
    "#now lets see if I can turn a list into a dictionary for fun\n",
    "lst = ['1','2', 'a', 'D', 'pi']\n",
    "# dct = dict(lst)\n",
    "# print(dct)\n",
    "\n",
    "#doesnt work, because you cant make a dict out of a list,\n",
    "#but you can make a dictionary out a list of tuples using dict() method...\n",
    "lst_uple = [('1','2'), ('a', 'D'), ('pi',2)]\n",
    "\n",
    "#print to check\n",
    "print(lst_uple)\n",
    "\n",
    "dict_from_listuple = dict(lst_uple)\n",
    "\n",
    "#print to check\n",
    "print(dict_from_listuple)\n",
    "\n",
    "#now let's make a data frame from our dict from our list of tuples\n",
    "\n",
    "#need me a panda\n",
    "import pandas as pd\n",
    "\n",
    "#attempt to create a dataframe from our dictionary.\n",
    "df = pd.DataFrame(dict_from_listuple, index=[dict_from_listuple.keys()])\n",
    "df.head()\n",
    "\n",
    "#yelling at me tellimg me i need an index so then I added the argument 'index=[dict_from_listuple.keys()]', which worked.\n",
    "\n",
    "df2 = pd.DataFrame(dict1, index=lst)\n",
    "df2.head(), df.head()\n",
    "\n",
    "#eww eww eww eww eww hahahaha\n"
   ]
  },
  {
   "cell_type": "code",
   "execution_count": null,
   "id": "53e38302-d8eb-43e7-9317-99b0d21738a4",
   "metadata": {},
   "outputs": [],
   "source": []
  }
 ],
 "metadata": {
  "kernelspec": {
   "display_name": "Python 3 (ipykernel)",
   "language": "python",
   "name": "python3"
  },
  "language_info": {
   "codemirror_mode": {
    "name": "ipython",
    "version": 3
   },
   "file_extension": ".py",
   "mimetype": "text/x-python",
   "name": "python",
   "nbconvert_exporter": "python",
   "pygments_lexer": "ipython3",
   "version": "3.10.16"
  }
 },
 "nbformat": 4,
 "nbformat_minor": 5
}
